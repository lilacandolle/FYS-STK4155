{
 "cells": [
  {
   "cell_type": "markdown",
   "id": "f35930ac",
   "metadata": {
    "editable": true
   },
   "source": [
    "<!-- HTML file automatically generated from DocOnce source (https://github.com/doconce/doconce/)\n",
    "doconce format html exercisesweek39.do.txt  -->\n",
    "<!-- dom:TITLE: Exercises week 39 -->"
   ]
  },
  {
   "cell_type": "markdown",
   "id": "8cb567a0",
   "metadata": {
    "editable": true
   },
   "source": [
    "# Exercises week 39\n",
    "**September 25-29, 2023**\n",
    "\n",
    "Date: **Deadline is Sunday October 1 at midnight**"
   ]
  },
  {
   "cell_type": "markdown",
   "id": "934324b3",
   "metadata": {
    "editable": true
   },
   "source": [
    "## Overarching aims of the exercises this week\n",
    "\n",
    "The aim of the exercises this week is to aid you in getting started\n",
    "with writing the report. This will be discussed during the lab\n",
    "sessions as well. One of the lab sessions will be recorded.\n",
    "\n",
    "A general guideline can be found at <https://github.com/CompPhysics/MachineLearning/blob/master/doc/Projects/EvaluationGrading/EvaluationForm.md>.\n",
    "\n",
    "Similarly, an example of an earlier project can be found at <https://github.com/CompPhysics/MachineLearning/blob/master/doc/Projects/ReportExample/ReportSample.pdf>\n",
    "\n",
    "Your task this week is to\n",
    "1. Write an abstract for your project\n",
    "\n",
    "2. Write an introduction\n",
    "\n",
    "3. Include references\n",
    "\n",
    "Ashort feedback to the this exercise will be available after the deadline. And you can reuse these elements in your final report."
   ]
  }
 ],
 "metadata": {},
 "nbformat": 4,
 "nbformat_minor": 5
}